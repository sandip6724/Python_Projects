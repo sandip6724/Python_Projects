{
 "cells": [
  {
   "cell_type": "markdown",
   "metadata": {},
   "source": [
    "## Email validation Regex Model\n",
    "#### a-z\n",
    "#### 0-9\n",
    "#### . _ time 1\n",
    "#### @ time 1\n",
    "#### . 2,3 "
   ]
  },
  {
   "cell_type": "code",
   "execution_count": 3,
   "metadata": {},
   "outputs": [
    {
     "name": "stderr",
     "output_type": "stream",
     "text": [
      "<>:3: SyntaxWarning: invalid escape sequence '\\.'\n",
      "<>:3: SyntaxWarning: invalid escape sequence '\\.'\n",
      "C:\\Users\\Admin\\AppData\\Local\\Temp\\ipykernel_6844\\3238497479.py:3: SyntaxWarning: invalid escape sequence '\\.'\n",
      "  email_condition = \"^[a-z]+[\\._]?[a-z 0-9]+[@]\\w+[.]\\w{2,3}$\"\n"
     ]
    },
    {
     "name": "stdout",
     "output_type": "stream",
     "text": [
      "Right\n"
     ]
    }
   ],
   "source": [
    "import re  #Regex\n",
    "\n",
    "email_condition = \"^[a-z]+[\\._]?[a-z 0-9]+[@]\\w+[.]\\w{2,3}$\"\n",
    "\n",
    "user_email = input(\"Enter Your Email :\")\n",
    "\n",
    "if re.search(email_condition,user_email):\n",
    "    print(\"Right\")\n",
    "else:\n",
    "    print(\"Wrong\")"
   ]
  },
  {
   "cell_type": "markdown",
   "metadata": {},
   "source": [
    "## Email Validation"
   ]
  },
  {
   "cell_type": "code",
   "execution_count": 8,
   "metadata": {},
   "outputs": [
    {
     "name": "stdout",
     "output_type": "stream",
     "text": [
      "Right Email\n"
     ]
    }
   ],
   "source": [
    "email = input(\"Enter Your Email :\")  #g@g.in \n",
    "k,j,d = 0,0,0\n",
    "if len(email) >= 6:\n",
    "    if email[0].isalpha():\n",
    "        if (\"@\" in email) and (email.count(\"@\")==1):\n",
    "            if (email[-4]==\".\") ^ (email[-3]==\".\"):\n",
    "                for i in email:\n",
    "                    if i.isspace():\n",
    "                        k=1\n",
    "                    elif i.isalpha():\n",
    "                        if i==i.upper():\n",
    "                            j=1\n",
    "                    elif i.isdigit():\n",
    "                        continue\n",
    "                    elif i=='_' or i=='.' or i=='@':\n",
    "                        continue\n",
    "                    else:\n",
    "                        d=1\n",
    "\n",
    "                if k==1 or j==1 or d==1:\n",
    "                    print('wrong Email 5')\n",
    "                else:\n",
    "                    print(\"Right Email\")\n",
    "            else:\n",
    "                print(\"Wrong Email 4\")\n",
    "        else:\n",
    "            print(\"Wrong email 3\")\n",
    "    else:\n",
    "        print(\"Wrong Email 2\")\n",
    "else:\n",
    "    print(\"Wrong Email 1\")"
   ]
  },
  {
   "cell_type": "code",
   "execution_count": null,
   "metadata": {},
   "outputs": [],
   "source": []
  }
 ],
 "metadata": {
  "kernelspec": {
   "display_name": "venv",
   "language": "python",
   "name": "python3"
  },
  "language_info": {
   "codemirror_mode": {
    "name": "ipython",
    "version": 3
   },
   "file_extension": ".py",
   "mimetype": "text/x-python",
   "name": "python",
   "nbconvert_exporter": "python",
   "pygments_lexer": "ipython3",
   "version": "3.12.0"
  }
 },
 "nbformat": 4,
 "nbformat_minor": 2
}
